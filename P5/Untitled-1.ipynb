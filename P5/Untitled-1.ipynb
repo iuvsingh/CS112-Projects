{
 "metadata": {
  "language_info": {
   "codemirror_mode": {
    "name": "ipython",
    "version": 3
   },
   "file_extension": ".py",
   "mimetype": "text/x-python",
   "name": "python",
   "nbconvert_exporter": "python",
   "pygments_lexer": "ipython3",
   "version": "3.9.1"
  },
  "orig_nbformat": 2,
  "kernelspec": {
   "name": "python391jvsc74a57bd0577a297e2a513f9552be04139cdb223b228b0b07404d35a15dcd4d8a64338710",
   "display_name": "Python 3.9.1 64-bit"
  },
  "metadata": {
   "interpreter": {
    "hash": "577a297e2a513f9552be04139cdb223b228b0b07404d35a15dcd4d8a64338710"
   }
  }
 },
 "nbformat": 4,
 "nbformat_minor": 2,
 "cells": [
  {
   "cell_type": "code",
   "execution_count": 4,
   "metadata": {},
   "outputs": [
    {
     "output_type": "stream",
     "name": "stdout",
     "text": [
      "['George Mason\\n', '100.0 100.0 95.0 100.0 100.0 95.0 \\n', '100.0 100.0 90.0 100.0 100.0 100.0 100.0 \\n', '100.0 100.0 100.0 100.0 100.0 100.0 100.0 100.0 100.0 100.0 90.0 90.0 \\n', '100.0 100.0 100.0 100.0 100.0 100.0 90.0 90.0 \\n', '95.0\\n', '100.0']\n"
     ]
    }
   ],
   "source": [
    "f = open(\"F:\\\\School\\\\SEM6\\\\testerP5\\\\testerP5\\\\gmason.grades\")\n",
    "z=f.readlines()\n",
    "print(z)"
   ]
  },
  {
   "cell_type": "code",
   "execution_count": 8,
   "metadata": {},
   "outputs": [
    {
     "output_type": "stream",
     "name": "stdout",
     "text": [
      "{'Name': 'George Mason\\n', 'Projects': '100.0 100.0 95.0 100.0 100.0 95.0 \\n', 'Homeworks': '100.0 100.0 90.0 100.0 100.0 100.0 100.0 \\n', 'zyBooks': '100.0 100.0 100.0 100.0 100.0 100.0 100.0 100.0 100.0 100.0 90.0 90.0 \\n', 'Quizzes': '100.0 100.0 100.0 100.0 100.0 100.0 90.0 90.0 \\n', 'Midterm': '95.0\\n', 'Final': '100.0'}\n"
     ]
    }
   ],
   "source": [
    "str_dict={}\n",
    "for i in range(len(z)):\n",
    "    if i==0:\n",
    "        str_dict[\"Name\"]=z[i]\n",
    "    if i==1:\n",
    "        str_dict[\"Projects\"]=z[i]\n",
    "    if i==2:\n",
    "        str_dict[\"Homeworks\"]=z[i]\n",
    "    if i==3:\n",
    "        str_dict[\"zyBooks\"]=z[i]\n",
    "    if i==4:\n",
    "        str_dict[\"Quizzes\"]=z[i]\n",
    "    if i==5:\n",
    "        str_dict[\"Midterm\"]=z[i]\n",
    "    if i==6:\n",
    "        str_dict[\"Final\"]=z[i]\n",
    "\n",
    "print(str_dict)"
   ]
  },
  {
   "cell_type": "code",
   "execution_count": null,
   "metadata": {},
   "outputs": [],
   "source": []
  }
 ]
}