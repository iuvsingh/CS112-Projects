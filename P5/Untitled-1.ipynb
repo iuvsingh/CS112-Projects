{
 "metadata": {
  "language_info": {
   "codemirror_mode": {
    "name": "ipython",
    "version": 3
   },
   "file_extension": ".py",
   "mimetype": "text/x-python",
   "name": "python",
   "nbconvert_exporter": "python",
   "pygments_lexer": "ipython3",
   "version": "3.9.1"
  },
  "orig_nbformat": 2,
  "kernelspec": {
   "name": "python391jvsc74a57bd0577a297e2a513f9552be04139cdb223b228b0b07404d35a15dcd4d8a64338710",
   "display_name": "Python 3.9.1 64-bit"
  },
  "metadata": {
   "interpreter": {
    "hash": "577a297e2a513f9552be04139cdb223b228b0b07404d35a15dcd4d8a64338710"
   }
  }
 },
 "nbformat": 4,
 "nbformat_minor": 2,
 "cells": [
  {
   "cell_type": "code",
   "execution_count": 16,
   "metadata": {},
   "outputs": [
    {
     "output_type": "stream",
     "name": "stdout",
     "text": [
      "['George Mason', [100.0, 100.0, 95.0, 100.0, 100.0, 95.0], [100.0, 100.0, 90.0, 100.0, 100.0, 100.0, 100.0], [95.0, 90.0, 89.0, 99.0, 95.0, 90.0, 99.0, 98.0, 99.0, 95.0, 90.0, 90.0], [100.0, 100.0, 100.0, 100.0, 100.0, 100.0, 90.0, 90.0], 95.0, 100.0]\nGeorge Mason\n100.0 100.0 95.0 100.0 100.0 95.0 \n100.0 100.0 90.0 100.0 100.0 100.0 100.0 \n95.0 90.0 89.0 99.0 95.0 90.0 99.0 98.0 99.0 95.0 90.0 90.0 \n100.0 100.0 100.0 100.0 100.0 100.0 90.0 90.0 \n95.0\n100.0\n\n"
     ]
    }
   ],
   "source": [
    "\n",
    "def write_grades_file(filename, grades):\n",
    "    val_lst=[]\n",
    "\n",
    "    for vals_str in grades.values():\n",
    "        val_lst.append(vals_str)\n",
    "\n",
    "    print(val_lst)\n",
    "\n",
    "    x=''\n",
    "    f = open('uv.grades','w')\n",
    "    for i in range(len(val_lst)):\n",
    "        if type(val_lst[i])!=list:\n",
    "            x+=str(val_lst[i])+'\\n'\n",
    "            f.write(x)\n",
    "        else:\n",
    "            lst_str=''\n",
    "            for j in range(len(val_lst[i])):\n",
    "                lst_str+=str(val_lst[i][j])+' '\n",
    "            x+=lst_str+'\\n'\n",
    "            \n",
    "    f.write(x)\n",
    "    #print(x)\n",
    "write_grades_file('uv.grades',{\"Name\": \"George Mason\",\n",
    " \"Projects\":[100.0, 100.0, 95.0, 100.0, 100.0, 95.0], \n",
    " \"Homeworks\":[100.0, 100.0, 90.0, 100.0, 100.0, 100.0, 100.0], \n",
    " \"zyBooks\":[95.0,90.0,89.0,99.0,95.0,90.0,99.0,98.0,99.0,95.0,90.0,90.0],\n",
    " \"Quizzes\":[100.0,100.0,100.0,100.0,100.0,100.0,90.0,90.0], \n",
    " \"Midterm\":95.0, \n",
    " \"Final\":100.0})"
   ]
  },
  {
   "cell_type": "code",
   "execution_count": null,
   "metadata": {},
   "outputs": [],
   "source": []
  }
 ]
}